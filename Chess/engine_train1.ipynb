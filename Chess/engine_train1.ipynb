{
 "cells": [
  {
   "cell_type": "code",
   "id": "initial_id",
   "metadata": {
    "collapsed": true,
    "ExecuteTime": {
     "end_time": "2025-05-05T04:43:53.434433Z",
     "start_time": "2025-05-05T04:43:41.089853Z"
    }
   },
   "source": [
    "import chess\n",
    "import numpy as np\n",
    "import tensorflow as tf\n",
    "# from tensorflow import keras\n",
    "# from tensorflow.keras import layers\n",
    "import pandas as pd\n",
    "import os\n",
    "import glob\n",
    "from sklearn.model_selection import train_test_split\n",
    "from sklearn.utils import shuffle"
   ],
   "outputs": [],
   "execution_count": 1
  },
  {
   "metadata": {
    "ExecuteTime": {
     "end_time": "2025-05-05T04:44:00.990944Z",
     "start_time": "2025-05-05T04:43:55.555347Z"
    }
   },
   "cell_type": "code",
   "source": [
    "path_csv = 'D:/AI/Chess/ChessApp/Chess/csv_data/morphy'\n",
    "# Ví dụ nếu bạn tải lên Colab:\n",
    "# path_csv = '/content/csv_data/morphy'\n",
    "\n",
    "if not os.path.isdir(path_csv):\n",
    "    print(f\"Lỗi: Thư mục không tồn tại: {path_csv}\")\n",
    "    print(\"Vui lòng kiểm tra lại đường dẫn `path_csv`.\")\n",
    "    # Dừng thực thi nếu thư mục không đúng (trong môi trường notebook có thể không dừng hẳn)\n",
    "    raise FileNotFoundError(f\"Thư mục không tồn tại: {path_csv}\")\n",
    "else:\n",
    "    files_csv = glob.glob(os.path.join(path_csv, \"*.csv\")) # Dùng os.path.join cho an toàn\n",
    "\n",
    "    if not files_csv:\n",
    "        print(f\"Lỗi: Không tìm thấy file CSV nào trong: {path_csv}\")\n",
    "        raise FileNotFoundError(f\"Không tìm thấy file CSV nào trong: {path_csv}\")\n",
    "    else:\n",
    "        li = []\n",
    "        print(f\"Đang đọc {len(files_csv)} file CSV từ {path_csv}...\")\n",
    "        for filename in files_csv:\n",
    "            try:\n",
    "                df = pd.read_csv(filename, index_col=None, header=0)\n",
    "                li.append(df)\n",
    "            except Exception as e:\n",
    "                print(f\"Lỗi khi đọc file {filename}: {e}\")\n",
    "\n",
    "        if not li:\n",
    "             print(f\"Lỗi: Không đọc được dữ liệu từ bất kỳ file CSV nào.\")\n",
    "             raise ValueError(\"Không có dữ liệu để xử lý.\")\n",
    "        else:\n",
    "            train_df = pd.concat(li, axis=0, ignore_index=True)\n",
    "            print(\"Đọc dữ liệu hoàn tất.\")\n",
    "\n"
   ],
   "id": "c42b9d2543ace209",
   "outputs": [
    {
     "name": "stdout",
     "output_type": "stream",
     "text": [
      "Đang đọc 193 file CSV từ D:/AI/Chess/ChessApp/Chess/csv_data/morphy...\n",
      "Đọc dữ liệu hoàn tất.\n"
     ]
    }
   ],
   "execution_count": 2
  },
  {
   "metadata": {
    "ExecuteTime": {
     "end_time": "2025-05-05T04:44:24.015631Z",
     "start_time": "2025-05-05T04:44:23.573423Z"
    }
   },
   "cell_type": "code",
   "source": "train_df = shuffle(train_df, random_state=42)",
   "id": "5f6ca69da5230671",
   "outputs": [],
   "execution_count": 3
  },
  {
   "metadata": {
    "ExecuteTime": {
     "end_time": "2025-05-05T04:44:25.313212Z",
     "start_time": "2025-05-05T04:44:25.224565Z"
    }
   },
   "cell_type": "code",
   "source": [
    "board_columns = list(train_df.iloc[:, 0:64].columns)\n",
    "label_column = 'good_move'"
   ],
   "id": "66f4aec03087f7ae",
   "outputs": [],
   "execution_count": 4
  },
  {
   "metadata": {
    "ExecuteTime": {
     "end_time": "2025-05-05T04:44:32.181802Z",
     "start_time": "2025-05-05T04:44:32.168066Z"
    }
   },
   "cell_type": "code",
   "source": [
    "# Định nghĩa ánh xạ quân cờ sang kênh\n",
    "piece_to_channel = {\n",
    "    'P': 0, 'N': 1, 'B': 2, 'R': 3, 'Q': 4, 'K': 5, # White\n",
    "    'p': 6, 'n': 7, 'b': 8, 'r': 9, 'q': 10, 'k': 11 # Black\n",
    "}\n",
    "NUM_CHANNELS = 12\n",
    "# Từ điển ánh xạ ký hiệu quân cờ PGN sang ký hiệu dùng trong dict\n",
    "pgn_map = {\n",
    "    'wP': 'P', 'wN': 'N', 'wB': 'B', 'wR': 'R', 'wQ': 'Q', 'wK': 'K',\n",
    "    'bP': 'p', 'bN': 'n', 'bB': 'b', 'bR': 'r', 'bQ': 'q', 'bK': 'k',\n",
    "    '--': None, 'EMPTY': None # Ô trống\n",
    "}\n",
    "\n",
    "# Tạo map từ tên cột (a1, h8) sang index (0,0) -> (7,7)\n",
    "square_name_to_index = {name: (r, f) for r, rank_name in enumerate('12345678')\n",
    "                       for f, file_name in enumerate('abcdefgh')\n",
    "                       for name in [file_name + rank_name]}"
   ],
   "id": "ae55cc735144cc0d",
   "outputs": [],
   "execution_count": 5
  },
  {
   "metadata": {
    "ExecuteTime": {
     "end_time": "2025-05-05T04:44:35.239912Z",
     "start_time": "2025-05-05T04:44:35.232887Z"
    }
   },
   "cell_type": "code",
   "source": [
    "def board_series_to_cnn_array(board_series):\n",
    "    \"\"\"Chuyển đổi một hàng (Series) 64 cột trạng thái bàn cờ thành (8, 8, 12) array.\"\"\"\n",
    "    cnn_array = np.zeros((8, 8, NUM_CHANNELS), dtype=np.float32)\n",
    "    for square_name, pgn_piece in board_series.items():\n",
    "        piece_symbol = pgn_map.get(pgn_piece) # Lấy ký hiệu chuẩn ('P', 'p', None,...)\n",
    "        if piece_symbol:\n",
    "            channel_index = piece_to_channel.get(piece_symbol)\n",
    "            rank, file = square_name_to_index[square_name]\n",
    "            # Quan trọng: Đảm bảo rank, file đúng với ma trận (hàng, cột)\n",
    "            # Nếu square_name_to_index map đúng thì rank là chỉ số hàng, file là chỉ số cột\n",
    "            cnn_array[rank, file, channel_index] = 1.0\n",
    "    return cnn_array"
   ],
   "id": "ff05368cd8ccad5c",
   "outputs": [],
   "execution_count": 6
  },
  {
   "metadata": {
    "ExecuteTime": {
     "end_time": "2025-05-05T04:44:37.232156Z",
     "start_time": "2025-05-05T04:44:37.157350Z"
    }
   },
   "cell_type": "code",
   "source": [
    "X = train_df[board_columns] # Chỉ lấy 64 cột bàn cờ\n",
    "y = train_df[label_column].astype(int)"
   ],
   "id": "8ffa34212d42ce9",
   "outputs": [],
   "execution_count": 7
  },
  {
   "metadata": {
    "ExecuteTime": {
     "end_time": "2025-05-05T04:44:39.082580Z",
     "start_time": "2025-05-05T04:44:38.866659Z"
    }
   },
   "cell_type": "code",
   "source": "X_train_df, X_val_df, y_train, y_val = train_test_split(X, y, test_size=0.2, random_state=42, stratify=y)",
   "id": "a56a6e00dc54090b",
   "outputs": [],
   "execution_count": 8
  },
  {
   "metadata": {
    "ExecuteTime": {
     "end_time": "2025-05-05T04:44:42.046029Z",
     "start_time": "2025-05-05T04:44:42.036339Z"
    }
   },
   "cell_type": "code",
   "source": [
    "BATCH_SIZE = 256 # Có thể cần giảm nếu gặp lỗi OOM với CNN\n",
    "BUFFER_SIZE = 10000"
   ],
   "id": "cb79572486aa4cd",
   "outputs": [],
   "execution_count": 9
  },
  {
   "metadata": {
    "ExecuteTime": {
     "end_time": "2025-05-05T04:44:44.053345Z",
     "start_time": "2025-05-05T04:44:44.030552Z"
    }
   },
   "cell_type": "code",
   "source": [
    "def tf_process_row(board_series_dict, label):\n",
    "    # board_series_dict là một dict {'a1': tensor, 'b1': tensor,...}\n",
    "    # Cần chuyển nó về dạng Series hoặc xử lý trực tiếp tensor\n",
    "    # Cách đơn giản nhất là dùng tf.py_function\n",
    "\n",
    "    def process_py(*args):\n",
    "        tensors = args\n",
    "        # tensors là một list/tuple các tensor string ứng với các cột a1..h8\n",
    "        # Cần decode và tạo lại cấu trúc Series để đưa vào hàm cũ\n",
    "        # Lưu ý: tf.py_function có thể làm chậm pipeline, nhưng dễ triển khai\n",
    "        decoded_strings = [t.numpy().decode('utf-8') for t in tensors]\n",
    "        board_series_pd = pd.Series(decoded_strings, index=board_columns)\n",
    "        cnn_arr = board_series_to_cnn_array(board_series_pd)\n",
    "        return cnn_arr.astype(np.float32)\n",
    "\n",
    "    # Lấy list các tensor từ dict\n",
    "    input_tensors = [board_series_dict[col] for col in board_columns]\n",
    "\n",
    "    cnn_input = tf.py_function(\n",
    "        func=process_py,\n",
    "        inp=input_tensors,\n",
    "        Tout=tf.float32\n",
    "    )\n",
    "    # Đảm bảo shape được set đúng sau py_function\n",
    "    cnn_input.set_shape([8, 8, NUM_CHANNELS])\n",
    "    return cnn_input, label\n"
   ],
   "id": "3bc837e460e77557",
   "outputs": [],
   "execution_count": 10
  },
  {
   "metadata": {
    "ExecuteTime": {
     "end_time": "2025-05-05T04:44:48.948382Z",
     "start_time": "2025-05-05T04:44:47.596858Z"
    }
   },
   "cell_type": "code",
   "source": [
    "def df_to_cnn_dataset(dataframe_X, dataframe_y, shuffle_data=True, batch_size=BATCH_SIZE):\n",
    "    # Chuyển đổi DataFrame thành dataset các dictionary features\n",
    "    ds = tf.data.Dataset.from_tensor_slices((dict(dataframe_X), dataframe_y))\n",
    "\n",
    "    if shuffle_data:\n",
    "        ds = ds.shuffle(buffer_size=BUFFER_SIZE)\n",
    "\n",
    "    # Áp dụng hàm tiền xử lý để tạo CNN input\n",
    "    ds = ds.map(tf_process_row, num_parallel_calls=tf.data.AUTOTUNE)\n",
    "\n",
    "    ds = ds.batch(batch_size)\n",
    "    ds = ds.prefetch(tf.data.AUTOTUNE) # Prefetch để tối ưu\n",
    "    return ds\n",
    "\n",
    "print(\"Tạo CNN datasets...\")\n",
    "train_ds = df_to_cnn_dataset(X_train_df, y_train)\n",
    "val_ds = df_to_cnn_dataset(X_val_df, y_val, shuffle_data=False)\n",
    "print(\"Hoàn thành tạo CNN datasets.\")"
   ],
   "id": "ace29abf8796c9ce",
   "outputs": [
    {
     "name": "stdout",
     "output_type": "stream",
     "text": [
      "Tạo CNN datasets...\n",
      "Hoàn thành tạo CNN datasets.\n"
     ]
    }
   ],
   "execution_count": 11
  },
  {
   "metadata": {
    "ExecuteTime": {
     "end_time": "2025-05-05T04:44:52.781787Z",
     "start_time": "2025-05-05T04:44:52.149916Z"
    }
   },
   "cell_type": "code",
   "source": [
    "# --- 4. Xây dựng Mô hình CNN ---\n",
    "def build_cnn_model(input_shape=(8, 8, NUM_CHANNELS)):\n",
    "    model = tf.keras.Sequential(\n",
    "        [\n",
    "            tf.keras.Input(shape=input_shape),\n",
    "            tf.keras.layers.Conv2D(filters=64, kernel_size=(3, 3), padding='same', activation='relu'),\n",
    "            tf.keras.layers.BatchNormalization(),\n",
    "            tf.keras.layers.Conv2D(filters=128, kernel_size=(3, 3), padding='same', activation='relu'),\n",
    "            tf.keras.layers.BatchNormalization(),\n",
    "            tf.keras.layers.Conv2D(filters=128, kernel_size=(3, 3), padding='same', activation='relu'),\n",
    "            tf.keras.layers.BatchNormalization(),\n",
    "            # Có thể thêm lớp Conv2D nữa hoặc MaxPooling2D ở đây\n",
    "            # layers.MaxPooling2D(pool_size=(2, 2)),\n",
    "            tf.keras.layers.Flatten(),\n",
    "            tf.keras.layers.Dense(256, activation='relu'), # Giữ lại lớp Dense lớn\n",
    "            tf.keras.layers.Dropout(0.5),\n",
    "            tf.keras.layers.Dense(128, activation='relu'), # Lớp Dense thứ 2\n",
    "            tf.keras.layers.Dropout(0.5),\n",
    "            tf.keras.layers.Dense(1, activation='sigmoid') # Output layer\n",
    "        ]\n",
    "    )\n",
    "    return model\n",
    "\n",
    "cnn_model = build_cnn_model()\n",
    "cnn_model.summary()"
   ],
   "id": "45140869ddea21cf",
   "outputs": [
    {
     "data": {
      "text/plain": [
       "\u001B[1mModel: \"sequential\"\u001B[0m\n"
      ],
      "text/html": [
       "<pre style=\"white-space:pre;overflow-x:auto;line-height:normal;font-family:Menlo,'DejaVu Sans Mono',consolas,'Courier New',monospace\"><span style=\"font-weight: bold\">Model: \"sequential\"</span>\n",
       "</pre>\n"
      ]
     },
     "metadata": {},
     "output_type": "display_data"
    },
    {
     "data": {
      "text/plain": [
       "┏━━━━━━━━━━━━━━━━━━━━━━━━━━━━━━━━━┳━━━━━━━━━━━━━━━━━━━━━━━━┳━━━━━━━━━━━━━━━┓\n",
       "┃\u001B[1m \u001B[0m\u001B[1mLayer (type)                   \u001B[0m\u001B[1m \u001B[0m┃\u001B[1m \u001B[0m\u001B[1mOutput Shape          \u001B[0m\u001B[1m \u001B[0m┃\u001B[1m \u001B[0m\u001B[1m      Param #\u001B[0m\u001B[1m \u001B[0m┃\n",
       "┡━━━━━━━━━━━━━━━━━━━━━━━━━━━━━━━━━╇━━━━━━━━━━━━━━━━━━━━━━━━╇━━━━━━━━━━━━━━━┩\n",
       "│ conv2d (\u001B[38;5;33mConv2D\u001B[0m)                 │ (\u001B[38;5;45mNone\u001B[0m, \u001B[38;5;34m8\u001B[0m, \u001B[38;5;34m8\u001B[0m, \u001B[38;5;34m64\u001B[0m)       │         \u001B[38;5;34m6,976\u001B[0m │\n",
       "├─────────────────────────────────┼────────────────────────┼───────────────┤\n",
       "│ batch_normalization             │ (\u001B[38;5;45mNone\u001B[0m, \u001B[38;5;34m8\u001B[0m, \u001B[38;5;34m8\u001B[0m, \u001B[38;5;34m64\u001B[0m)       │           \u001B[38;5;34m256\u001B[0m │\n",
       "│ (\u001B[38;5;33mBatchNormalization\u001B[0m)            │                        │               │\n",
       "├─────────────────────────────────┼────────────────────────┼───────────────┤\n",
       "│ conv2d_1 (\u001B[38;5;33mConv2D\u001B[0m)               │ (\u001B[38;5;45mNone\u001B[0m, \u001B[38;5;34m8\u001B[0m, \u001B[38;5;34m8\u001B[0m, \u001B[38;5;34m128\u001B[0m)      │        \u001B[38;5;34m73,856\u001B[0m │\n",
       "├─────────────────────────────────┼────────────────────────┼───────────────┤\n",
       "│ batch_normalization_1           │ (\u001B[38;5;45mNone\u001B[0m, \u001B[38;5;34m8\u001B[0m, \u001B[38;5;34m8\u001B[0m, \u001B[38;5;34m128\u001B[0m)      │           \u001B[38;5;34m512\u001B[0m │\n",
       "│ (\u001B[38;5;33mBatchNormalization\u001B[0m)            │                        │               │\n",
       "├─────────────────────────────────┼────────────────────────┼───────────────┤\n",
       "│ conv2d_2 (\u001B[38;5;33mConv2D\u001B[0m)               │ (\u001B[38;5;45mNone\u001B[0m, \u001B[38;5;34m8\u001B[0m, \u001B[38;5;34m8\u001B[0m, \u001B[38;5;34m128\u001B[0m)      │       \u001B[38;5;34m147,584\u001B[0m │\n",
       "├─────────────────────────────────┼────────────────────────┼───────────────┤\n",
       "│ batch_normalization_2           │ (\u001B[38;5;45mNone\u001B[0m, \u001B[38;5;34m8\u001B[0m, \u001B[38;5;34m8\u001B[0m, \u001B[38;5;34m128\u001B[0m)      │           \u001B[38;5;34m512\u001B[0m │\n",
       "│ (\u001B[38;5;33mBatchNormalization\u001B[0m)            │                        │               │\n",
       "├─────────────────────────────────┼────────────────────────┼───────────────┤\n",
       "│ flatten (\u001B[38;5;33mFlatten\u001B[0m)               │ (\u001B[38;5;45mNone\u001B[0m, \u001B[38;5;34m8192\u001B[0m)           │             \u001B[38;5;34m0\u001B[0m │\n",
       "├─────────────────────────────────┼────────────────────────┼───────────────┤\n",
       "│ dense (\u001B[38;5;33mDense\u001B[0m)                   │ (\u001B[38;5;45mNone\u001B[0m, \u001B[38;5;34m256\u001B[0m)            │     \u001B[38;5;34m2,097,408\u001B[0m │\n",
       "├─────────────────────────────────┼────────────────────────┼───────────────┤\n",
       "│ dropout (\u001B[38;5;33mDropout\u001B[0m)               │ (\u001B[38;5;45mNone\u001B[0m, \u001B[38;5;34m256\u001B[0m)            │             \u001B[38;5;34m0\u001B[0m │\n",
       "├─────────────────────────────────┼────────────────────────┼───────────────┤\n",
       "│ dense_1 (\u001B[38;5;33mDense\u001B[0m)                 │ (\u001B[38;5;45mNone\u001B[0m, \u001B[38;5;34m128\u001B[0m)            │        \u001B[38;5;34m32,896\u001B[0m │\n",
       "├─────────────────────────────────┼────────────────────────┼───────────────┤\n",
       "│ dropout_1 (\u001B[38;5;33mDropout\u001B[0m)             │ (\u001B[38;5;45mNone\u001B[0m, \u001B[38;5;34m128\u001B[0m)            │             \u001B[38;5;34m0\u001B[0m │\n",
       "├─────────────────────────────────┼────────────────────────┼───────────────┤\n",
       "│ dense_2 (\u001B[38;5;33mDense\u001B[0m)                 │ (\u001B[38;5;45mNone\u001B[0m, \u001B[38;5;34m1\u001B[0m)              │           \u001B[38;5;34m129\u001B[0m │\n",
       "└─────────────────────────────────┴────────────────────────┴───────────────┘\n"
      ],
      "text/html": [
       "<pre style=\"white-space:pre;overflow-x:auto;line-height:normal;font-family:Menlo,'DejaVu Sans Mono',consolas,'Courier New',monospace\">┏━━━━━━━━━━━━━━━━━━━━━━━━━━━━━━━━━┳━━━━━━━━━━━━━━━━━━━━━━━━┳━━━━━━━━━━━━━━━┓\n",
       "┃<span style=\"font-weight: bold\"> Layer (type)                    </span>┃<span style=\"font-weight: bold\"> Output Shape           </span>┃<span style=\"font-weight: bold\">       Param # </span>┃\n",
       "┡━━━━━━━━━━━━━━━━━━━━━━━━━━━━━━━━━╇━━━━━━━━━━━━━━━━━━━━━━━━╇━━━━━━━━━━━━━━━┩\n",
       "│ conv2d (<span style=\"color: #0087ff; text-decoration-color: #0087ff\">Conv2D</span>)                 │ (<span style=\"color: #00d7ff; text-decoration-color: #00d7ff\">None</span>, <span style=\"color: #00af00; text-decoration-color: #00af00\">8</span>, <span style=\"color: #00af00; text-decoration-color: #00af00\">8</span>, <span style=\"color: #00af00; text-decoration-color: #00af00\">64</span>)       │         <span style=\"color: #00af00; text-decoration-color: #00af00\">6,976</span> │\n",
       "├─────────────────────────────────┼────────────────────────┼───────────────┤\n",
       "│ batch_normalization             │ (<span style=\"color: #00d7ff; text-decoration-color: #00d7ff\">None</span>, <span style=\"color: #00af00; text-decoration-color: #00af00\">8</span>, <span style=\"color: #00af00; text-decoration-color: #00af00\">8</span>, <span style=\"color: #00af00; text-decoration-color: #00af00\">64</span>)       │           <span style=\"color: #00af00; text-decoration-color: #00af00\">256</span> │\n",
       "│ (<span style=\"color: #0087ff; text-decoration-color: #0087ff\">BatchNormalization</span>)            │                        │               │\n",
       "├─────────────────────────────────┼────────────────────────┼───────────────┤\n",
       "│ conv2d_1 (<span style=\"color: #0087ff; text-decoration-color: #0087ff\">Conv2D</span>)               │ (<span style=\"color: #00d7ff; text-decoration-color: #00d7ff\">None</span>, <span style=\"color: #00af00; text-decoration-color: #00af00\">8</span>, <span style=\"color: #00af00; text-decoration-color: #00af00\">8</span>, <span style=\"color: #00af00; text-decoration-color: #00af00\">128</span>)      │        <span style=\"color: #00af00; text-decoration-color: #00af00\">73,856</span> │\n",
       "├─────────────────────────────────┼────────────────────────┼───────────────┤\n",
       "│ batch_normalization_1           │ (<span style=\"color: #00d7ff; text-decoration-color: #00d7ff\">None</span>, <span style=\"color: #00af00; text-decoration-color: #00af00\">8</span>, <span style=\"color: #00af00; text-decoration-color: #00af00\">8</span>, <span style=\"color: #00af00; text-decoration-color: #00af00\">128</span>)      │           <span style=\"color: #00af00; text-decoration-color: #00af00\">512</span> │\n",
       "│ (<span style=\"color: #0087ff; text-decoration-color: #0087ff\">BatchNormalization</span>)            │                        │               │\n",
       "├─────────────────────────────────┼────────────────────────┼───────────────┤\n",
       "│ conv2d_2 (<span style=\"color: #0087ff; text-decoration-color: #0087ff\">Conv2D</span>)               │ (<span style=\"color: #00d7ff; text-decoration-color: #00d7ff\">None</span>, <span style=\"color: #00af00; text-decoration-color: #00af00\">8</span>, <span style=\"color: #00af00; text-decoration-color: #00af00\">8</span>, <span style=\"color: #00af00; text-decoration-color: #00af00\">128</span>)      │       <span style=\"color: #00af00; text-decoration-color: #00af00\">147,584</span> │\n",
       "├─────────────────────────────────┼────────────────────────┼───────────────┤\n",
       "│ batch_normalization_2           │ (<span style=\"color: #00d7ff; text-decoration-color: #00d7ff\">None</span>, <span style=\"color: #00af00; text-decoration-color: #00af00\">8</span>, <span style=\"color: #00af00; text-decoration-color: #00af00\">8</span>, <span style=\"color: #00af00; text-decoration-color: #00af00\">128</span>)      │           <span style=\"color: #00af00; text-decoration-color: #00af00\">512</span> │\n",
       "│ (<span style=\"color: #0087ff; text-decoration-color: #0087ff\">BatchNormalization</span>)            │                        │               │\n",
       "├─────────────────────────────────┼────────────────────────┼───────────────┤\n",
       "│ flatten (<span style=\"color: #0087ff; text-decoration-color: #0087ff\">Flatten</span>)               │ (<span style=\"color: #00d7ff; text-decoration-color: #00d7ff\">None</span>, <span style=\"color: #00af00; text-decoration-color: #00af00\">8192</span>)           │             <span style=\"color: #00af00; text-decoration-color: #00af00\">0</span> │\n",
       "├─────────────────────────────────┼────────────────────────┼───────────────┤\n",
       "│ dense (<span style=\"color: #0087ff; text-decoration-color: #0087ff\">Dense</span>)                   │ (<span style=\"color: #00d7ff; text-decoration-color: #00d7ff\">None</span>, <span style=\"color: #00af00; text-decoration-color: #00af00\">256</span>)            │     <span style=\"color: #00af00; text-decoration-color: #00af00\">2,097,408</span> │\n",
       "├─────────────────────────────────┼────────────────────────┼───────────────┤\n",
       "│ dropout (<span style=\"color: #0087ff; text-decoration-color: #0087ff\">Dropout</span>)               │ (<span style=\"color: #00d7ff; text-decoration-color: #00d7ff\">None</span>, <span style=\"color: #00af00; text-decoration-color: #00af00\">256</span>)            │             <span style=\"color: #00af00; text-decoration-color: #00af00\">0</span> │\n",
       "├─────────────────────────────────┼────────────────────────┼───────────────┤\n",
       "│ dense_1 (<span style=\"color: #0087ff; text-decoration-color: #0087ff\">Dense</span>)                 │ (<span style=\"color: #00d7ff; text-decoration-color: #00d7ff\">None</span>, <span style=\"color: #00af00; text-decoration-color: #00af00\">128</span>)            │        <span style=\"color: #00af00; text-decoration-color: #00af00\">32,896</span> │\n",
       "├─────────────────────────────────┼────────────────────────┼───────────────┤\n",
       "│ dropout_1 (<span style=\"color: #0087ff; text-decoration-color: #0087ff\">Dropout</span>)             │ (<span style=\"color: #00d7ff; text-decoration-color: #00d7ff\">None</span>, <span style=\"color: #00af00; text-decoration-color: #00af00\">128</span>)            │             <span style=\"color: #00af00; text-decoration-color: #00af00\">0</span> │\n",
       "├─────────────────────────────────┼────────────────────────┼───────────────┤\n",
       "│ dense_2 (<span style=\"color: #0087ff; text-decoration-color: #0087ff\">Dense</span>)                 │ (<span style=\"color: #00d7ff; text-decoration-color: #00d7ff\">None</span>, <span style=\"color: #00af00; text-decoration-color: #00af00\">1</span>)              │           <span style=\"color: #00af00; text-decoration-color: #00af00\">129</span> │\n",
       "└─────────────────────────────────┴────────────────────────┴───────────────┘\n",
       "</pre>\n"
      ]
     },
     "metadata": {},
     "output_type": "display_data"
    },
    {
     "data": {
      "text/plain": [
       "\u001B[1m Total params: \u001B[0m\u001B[38;5;34m2,360,129\u001B[0m (9.00 MB)\n"
      ],
      "text/html": [
       "<pre style=\"white-space:pre;overflow-x:auto;line-height:normal;font-family:Menlo,'DejaVu Sans Mono',consolas,'Courier New',monospace\"><span style=\"font-weight: bold\"> Total params: </span><span style=\"color: #00af00; text-decoration-color: #00af00\">2,360,129</span> (9.00 MB)\n",
       "</pre>\n"
      ]
     },
     "metadata": {},
     "output_type": "display_data"
    },
    {
     "data": {
      "text/plain": [
       "\u001B[1m Trainable params: \u001B[0m\u001B[38;5;34m2,359,489\u001B[0m (9.00 MB)\n"
      ],
      "text/html": [
       "<pre style=\"white-space:pre;overflow-x:auto;line-height:normal;font-family:Menlo,'DejaVu Sans Mono',consolas,'Courier New',monospace\"><span style=\"font-weight: bold\"> Trainable params: </span><span style=\"color: #00af00; text-decoration-color: #00af00\">2,359,489</span> (9.00 MB)\n",
       "</pre>\n"
      ]
     },
     "metadata": {},
     "output_type": "display_data"
    },
    {
     "data": {
      "text/plain": [
       "\u001B[1m Non-trainable params: \u001B[0m\u001B[38;5;34m640\u001B[0m (2.50 KB)\n"
      ],
      "text/html": [
       "<pre style=\"white-space:pre;overflow-x:auto;line-height:normal;font-family:Menlo,'DejaVu Sans Mono',consolas,'Courier New',monospace\"><span style=\"font-weight: bold\"> Non-trainable params: </span><span style=\"color: #00af00; text-decoration-color: #00af00\">640</span> (2.50 KB)\n",
       "</pre>\n"
      ]
     },
     "metadata": {},
     "output_type": "display_data"
    }
   ],
   "execution_count": 12
  },
  {
   "metadata": {
    "ExecuteTime": {
     "end_time": "2025-05-05T05:16:47.510782Z",
     "start_time": "2025-05-05T04:44:58.802690Z"
    }
   },
   "cell_type": "code",
   "source": [
    "# --- 5. Biên dịch và Huấn luyện Mô hình CNN ---\n",
    "cnn_model.compile(\n",
    "    optimizer=tf.keras.optimizers.Adam(learning_rate=0.0005), # Có thể cần learning rate nhỏ hơn\n",
    "    loss='binary_crossentropy',\n",
    "    metrics=['accuracy']\n",
    ")\n",
    "\n",
    "print(\"\\nBắt đầu huấn luyện mô hình CNN...\")\n",
    "\n",
    "early_stopping = tf.keras.callbacks.EarlyStopping(\n",
    "    monitor='val_loss',\n",
    "    patience=5, # Tăng patience một chút vì CNN có thể hội tụ chậm hơn\n",
    "    restore_best_weights=True\n",
    ")\n",
    "\n",
    "EPOCHS = 20 # Có thể cần nhiều epochs hơn cho CNN\n",
    "\n",
    "history = cnn_model.fit(\n",
    "    train_ds,\n",
    "    epochs=EPOCHS,\n",
    "    validation_data=val_ds,\n",
    "    callbacks=[early_stopping]\n",
    ")\n",
    "\n",
    "print(\"\\nHoàn tất huấn luyện CNN.\")"
   ],
   "id": "9312e6f8017c2f2",
   "outputs": [
    {
     "name": "stdout",
     "output_type": "stream",
     "text": [
      "\n",
      "Bắt đầu huấn luyện mô hình CNN...\n",
      "Epoch 1/20\n",
      "\u001B[1m666/666\u001B[0m \u001B[32m━━━━━━━━━━━━━━━━━━━━\u001B[0m\u001B[37m\u001B[0m \u001B[1m235s\u001B[0m 349ms/step - accuracy: 0.9666 - loss: 0.1822 - val_accuracy: 0.9707 - val_loss: 0.1791\n",
      "Epoch 2/20\n",
      "\u001B[1m666/666\u001B[0m \u001B[32m━━━━━━━━━━━━━━━━━━━━\u001B[0m\u001B[37m\u001B[0m \u001B[1m230s\u001B[0m 345ms/step - accuracy: 0.9710 - loss: 0.1469 - val_accuracy: 0.9707 - val_loss: 0.1582\n",
      "Epoch 3/20\n",
      "\u001B[1m666/666\u001B[0m \u001B[32m━━━━━━━━━━━━━━━━━━━━\u001B[0m\u001B[37m\u001B[0m \u001B[1m247s\u001B[0m 370ms/step - accuracy: 0.9709 - loss: 0.1430 - val_accuracy: 0.9707 - val_loss: 0.1495\n",
      "Epoch 4/20\n",
      "\u001B[1m666/666\u001B[0m \u001B[32m━━━━━━━━━━━━━━━━━━━━\u001B[0m\u001B[37m\u001B[0m \u001B[1m226s\u001B[0m 339ms/step - accuracy: 0.9708 - loss: 0.1411 - val_accuracy: 0.9707 - val_loss: 0.1637\n",
      "Epoch 5/20\n",
      "\u001B[1m666/666\u001B[0m \u001B[32m━━━━━━━━━━━━━━━━━━━━\u001B[0m\u001B[37m\u001B[0m \u001B[1m264s\u001B[0m 396ms/step - accuracy: 0.9711 - loss: 0.1372 - val_accuracy: 0.9707 - val_loss: 0.1495\n",
      "Epoch 6/20\n",
      "\u001B[1m666/666\u001B[0m \u001B[32m━━━━━━━━━━━━━━━━━━━━\u001B[0m\u001B[37m\u001B[0m \u001B[1m236s\u001B[0m 354ms/step - accuracy: 0.9710 - loss: 0.1378 - val_accuracy: 0.9707 - val_loss: 0.1565\n",
      "Epoch 7/20\n",
      "\u001B[1m666/666\u001B[0m \u001B[32m━━━━━━━━━━━━━━━━━━━━\u001B[0m\u001B[37m\u001B[0m \u001B[1m236s\u001B[0m 354ms/step - accuracy: 0.9712 - loss: 0.1363 - val_accuracy: 0.9707 - val_loss: 0.1539\n",
      "Epoch 8/20\n",
      "\u001B[1m666/666\u001B[0m \u001B[32m━━━━━━━━━━━━━━━━━━━━\u001B[0m\u001B[37m\u001B[0m \u001B[1m236s\u001B[0m 354ms/step - accuracy: 0.9713 - loss: 0.1360 - val_accuracy: 0.9707 - val_loss: 0.1505\n",
      "\n",
      "Hoàn tất huấn luyện CNN.\n"
     ]
    }
   ],
   "execution_count": 13
  },
  {
   "metadata": {
    "ExecuteTime": {
     "end_time": "2025-05-05T05:20:50.021970Z",
     "start_time": "2025-05-05T05:20:10.988835Z"
    }
   },
   "cell_type": "code",
   "source": [
    "# --- 6. Đánh giá và Lưu mô hình ---\n",
    "loss, accuracy = cnn_model.evaluate(val_ds)\n",
    "print(f\"\\nCNN Validation Loss: {loss:.4f}\")\n",
    "print(f\"CNN Validation Accuracy: {accuracy:.4f}\")\n",
    "\n",
    "# Lưu mô hình CNN\n",
    "cnn_model_save_path = 'D:/AI/Chess/ChessApp/Chess/model/morphy_cnn' # Đổi tên\n",
    "os.makedirs(os.path.dirname(cnn_model_save_path), exist_ok=True)\n",
    "cnn_model.export(cnn_model_save_path) # Lưu định dạng SavedModel (chứa cả kiến trúc và trọng số)\n",
    "# Hoặc lưu chỉ trọng số: cnn_model.save_weights(cnn_model_save_path + '_weights.h5')\n",
    "print(f\"Đã lưu mô hình CNN vào: {cnn_model_save_path}\")"
   ],
   "id": "1e75e871cc613cc7",
   "outputs": [
    {
     "name": "stdout",
     "output_type": "stream",
     "text": [
      "\u001B[1m167/167\u001B[0m \u001B[32m━━━━━━━━━━━━━━━━━━━━\u001B[0m\u001B[37m\u001B[0m \u001B[1m38s\u001B[0m 230ms/step - accuracy: 0.9711 - loss: 0.1481\n",
      "\n",
      "CNN Validation Loss: 0.1495\n",
      "CNN Validation Accuracy: 0.9707\n",
      "INFO:tensorflow:Assets written to: D:/AI/Chess/ChessApp/Chess/model/morphy_cnn\\assets\n"
     ]
    },
    {
     "name": "stderr",
     "output_type": "stream",
     "text": [
      "INFO:tensorflow:Assets written to: D:/AI/Chess/ChessApp/Chess/model/morphy_cnn\\assets\n"
     ]
    },
    {
     "name": "stdout",
     "output_type": "stream",
     "text": [
      "Saved artifact at 'D:/AI/Chess/ChessApp/Chess/model/morphy_cnn'. The following endpoints are available:\n",
      "\n",
      "* Endpoint 'serve'\n",
      "  args_0 (POSITIONAL_ONLY): TensorSpec(shape=(None, 8, 8, 12), dtype=tf.float32, name='keras_tensor')\n",
      "Output Type:\n",
      "  TensorSpec(shape=(None, 1), dtype=tf.float32, name=None)\n",
      "Captures:\n",
      "  2020984635472: TensorSpec(shape=(), dtype=tf.resource, name=None)\n",
      "  2020984637392: TensorSpec(shape=(), dtype=tf.resource, name=None)\n",
      "  2020984637776: TensorSpec(shape=(), dtype=tf.resource, name=None)\n",
      "  2020984637584: TensorSpec(shape=(), dtype=tf.resource, name=None)\n",
      "  2020984636624: TensorSpec(shape=(), dtype=tf.resource, name=None)\n",
      "  2020984636432: TensorSpec(shape=(), dtype=tf.resource, name=None)\n",
      "  2020984638736: TensorSpec(shape=(), dtype=tf.resource, name=None)\n",
      "  2020984639312: TensorSpec(shape=(), dtype=tf.resource, name=None)\n",
      "  2020984639504: TensorSpec(shape=(), dtype=tf.resource, name=None)\n",
      "  2020984637968: TensorSpec(shape=(), dtype=tf.resource, name=None)\n",
      "  2020984636240: TensorSpec(shape=(), dtype=tf.resource, name=None)\n",
      "  2020984639120: TensorSpec(shape=(), dtype=tf.resource, name=None)\n",
      "  2020984638544: TensorSpec(shape=(), dtype=tf.resource, name=None)\n",
      "  2020984641808: TensorSpec(shape=(), dtype=tf.resource, name=None)\n",
      "  2020984638160: TensorSpec(shape=(), dtype=tf.resource, name=None)\n",
      "  2020984641616: TensorSpec(shape=(), dtype=tf.resource, name=None)\n",
      "  2020984640656: TensorSpec(shape=(), dtype=tf.resource, name=None)\n",
      "  2020984641424: TensorSpec(shape=(), dtype=tf.resource, name=None)\n",
      "  2020984643344: TensorSpec(shape=(), dtype=tf.resource, name=None)\n",
      "  2020984643920: TensorSpec(shape=(), dtype=tf.resource, name=None)\n",
      "  2020984644304: TensorSpec(shape=(), dtype=tf.resource, name=None)\n",
      "  2020984645840: TensorSpec(shape=(), dtype=tf.resource, name=None)\n",
      "  2020984645264: TensorSpec(shape=(), dtype=tf.resource, name=None)\n",
      "  2020984646608: TensorSpec(shape=(), dtype=tf.resource, name=None)\n",
      "Đã lưu mô hình CNN vào: D:/AI/Chess/ChessApp/Chess/model/morphy_cnn\n"
     ]
    }
   ],
   "execution_count": 15
  }
 ],
 "metadata": {
  "kernelspec": {
   "display_name": "Python 3",
   "language": "python",
   "name": "python3"
  },
  "language_info": {
   "codemirror_mode": {
    "name": "ipython",
    "version": 2
   },
   "file_extension": ".py",
   "mimetype": "text/x-python",
   "name": "python",
   "nbconvert_exporter": "python",
   "pygments_lexer": "ipython2",
   "version": "2.7.6"
  }
 },
 "nbformat": 4,
 "nbformat_minor": 5
}
